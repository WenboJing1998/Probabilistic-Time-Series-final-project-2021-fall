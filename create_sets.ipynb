{
 "cells": [
  {
   "cell_type": "code",
   "execution_count": 1,
   "metadata": {},
   "outputs": [],
   "source": [
    "import numpy as np\n",
    "import pandas as pd\n",
    "\n",
    "X_train, X_test, y_train, y_test = pd.read_csv('X_train.csv').iloc[: , 1:], \\\n",
    "                                   pd.read_csv('X_test.csv').iloc[: , 1:],\\\n",
    "                                   pd.read_csv('y_train.csv').iloc[: , 1:], \\\n",
    "                                   pd.read_csv('y_test.csv').iloc[: , 1:]"
   ]
  },
  {
   "cell_type": "code",
   "execution_count": 3,
   "metadata": {},
   "outputs": [],
   "source": [
    "L = 10\n",
    "def CreateRainfullDataSet(X, y, L):\n",
    "    input_size = X.shape[1]\n",
    "    X_train_TimeSeries = np.empty([1, L, input_size])\n",
    "    y_train_TimeSeries = np.empty([1, L])\n",
    "    for j in range(16, 65):\n",
    "        location_labels = np.where(X.iloc[: ,j] == 1)[0]\n",
    "        training_index = []\n",
    "        for i in location_labels[(L - 1):len(location_labels)]:\n",
    "            training_index += np.arange(i- L + 1, i + 1).tolist()\n",
    "            \n",
    "        \n",
    "        X_train_TimeSeries  = np.concatenate((X_train_TimeSeries, np.array(X.iloc[training_index, :].values).reshape(-1, L, input_size)), 0)\n",
    "        y_train_TimeSeries = np.concatenate((y_train_TimeSeries, np.array(y.iloc[training_index].values).reshape(-1, L)), 0)\n",
    "            \n",
    "    return np.transpose(X_train_TimeSeries[1:, :], (0, 2, 1)), y_train_TimeSeries[1:]\n",
    "\n",
    "X_train_TS, y_train_TS = CreateRainfullDataSet(X_train, y_train, L)\n",
    "X_test_TS, y_test_TS = CreateRainfullDataSet(X_test, y_test, L)"
   ]
  },
  {
   "cell_type": "code",
   "execution_count": null,
   "metadata": {},
   "outputs": [],
   "source": []
  }
 ],
 "metadata": {
  "kernelspec": {
   "display_name": "Python 3",
   "language": "python",
   "name": "python3"
  },
  "language_info": {
   "codemirror_mode": {
    "name": "ipython",
    "version": 3
   },
   "file_extension": ".py",
   "mimetype": "text/x-python",
   "name": "python",
   "nbconvert_exporter": "python",
   "pygments_lexer": "ipython3",
   "version": "3.7.6"
  }
 },
 "nbformat": 4,
 "nbformat_minor": 4
}
