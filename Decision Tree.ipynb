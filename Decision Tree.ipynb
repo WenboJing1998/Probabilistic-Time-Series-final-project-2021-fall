{
 "cells": [
  {
   "cell_type": "code",
   "execution_count": null,
   "metadata": {},
   "outputs": [],
   "source": [
    "import pandas as pd\n",
    "import numpy as np\n",
    "import os\n",
    "from sklearn.tree import DecisionTreeClassifier\n",
    "from sklearn.model_selection import RandomizedSearchCV\n",
    "\n",
    "from sklearn.metrics import (plot_roc_curve, classification_report, roc_auc_score, average_precision_score,\n",
    "confusion_matrix, plot_confusion_matrix, plot_precision_recall_curve)"
   ]
  },
  {
   "cell_type": "code",
   "execution_count": null,
   "metadata": {},
   "outputs": [],
   "source": [
    "path = '/Users/shaow/Desktop/DS-GA1018/Project/'\n",
    "X_train = pd.read_csv(os.path.join(path, \"train_test_data/X_train.csv\"))\n",
    "X_test = pd.read_csv(os.path.join(path, \"train_test_data/X_test.csv\"))\n",
    "y_train = pd.read_csv(os.path.join(path, \"train_test_data/y_train.csv\"))\n",
    "y_test = pd.read_csv(os.path.join(path, \"train_test_data/y_test.csv\"))"
   ]
  },
  {
   "cell_type": "code",
   "execution_count": null,
   "metadata": {},
   "outputs": [],
   "source": [
    "# y = data['RainTomorrow']\n",
    "# date = data['Date']\n",
    "# data = data.drop(['Date', 'RainTomorrow'], axis = 1)"
   ]
  },
  {
   "cell_type": "code",
   "execution_count": null,
   "metadata": {},
   "outputs": [],
   "source": [
    "# X_train, X_test, y_train, y_test = train_test_split(data, y, test_size = 0.25, random_state = 1)"
   ]
  },
  {
   "cell_type": "code",
   "execution_count": null,
   "metadata": {},
   "outputs": [],
   "source": [
    "'''\n",
    "clf = DecisionTreeClassifier()\n",
    "parameters = {'min_samples_leaf':range(100,5000,100),'max_depth':range(10,20,1),'criterion':['gini','entropy']}\n",
    "clf_grid = RandomizedSearchCV(clf, parameters,cv=5,n_iter=300,scoring='recall',n_jobs=-1)\n",
    "clf_grid_results = clf_grid.fit(X_train, y_train)\n",
    "opt_para = clf_grid_results.best_params_\n",
    "print(\"Following hyper-parameters give the best results: \", opt_para)\n",
    "clf = clf_grid_results.best_estimator_\n",
    "clf.fit(X_train, y_train)\n",
    "y_pred = clf.predict(X_test)\n",
    "y_pred_prob = clf.predict_proba(X_test)[:,1]\n",
    "'''"
   ]
  },
  {
   "cell_type": "code",
   "execution_count": null,
   "metadata": {},
   "outputs": [],
   "source": [
    "clf = DecisionTreeClassifier()\n",
    "clf.fit(X_train, y_train)\n",
    "y_pred_train = clf.predict(X_train)\n",
    "y_pred_prob_train = clf.predict_proba(X_train)[:,1]\n",
    "print(roc_auc_score(y_train, y_pred_prob_train))"
   ]
  },
  {
   "cell_type": "code",
   "execution_count": null,
   "metadata": {},
   "outputs": [],
   "source": [
    "print(classification_report(y_test, y_pred))\n",
    "print(roc_auc_score(y_test, y_pred_prob))"
   ]
  },
  {
   "cell_type": "code",
   "execution_count": null,
   "metadata": {},
   "outputs": [],
   "source": []
  }
 ],
 "metadata": {
  "kernelspec": {
   "display_name": "Python 3",
   "language": "python",
   "name": "python3"
  },
  "language_info": {
   "codemirror_mode": {
    "name": "ipython",
    "version": 3
   },
   "file_extension": ".py",
   "mimetype": "text/x-python",
   "name": "python",
   "nbconvert_exporter": "python",
   "pygments_lexer": "ipython3",
   "version": "3.7.4"
  }
 },
 "nbformat": 4,
 "nbformat_minor": 2
}
