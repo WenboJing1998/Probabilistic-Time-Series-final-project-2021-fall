{
 "cells": [
  {
   "cell_type": "code",
   "execution_count": 1,
   "metadata": {},
   "outputs": [],
   "source": [
    "import pandas as pd\n",
    "import numpy as np\n",
    "import os\n",
    "from sktime.classification.shapelet_based import MrSEQLClassifier\n",
    "\n",
    "from sklearn.metrics import accuracy_score\n",
    "from sklearn.metrics import (plot_roc_curve, classification_report, roc_auc_score, average_precision_score,\n",
    "confusion_matrix, plot_confusion_matrix, plot_precision_recall_curve)"
   ]
  },
  {
   "cell_type": "code",
   "execution_count": 2,
   "metadata": {},
   "outputs": [],
   "source": [
    "path = '/Users/shaow/Desktop/DS-GA1018/Project/'\n",
    "X_train = pd.read_csv(os.path.join(path, \"train_test_data/X_train.csv\"))\n",
    "X_test = pd.read_csv(os.path.join(path, \"train_test_data/X_test.csv\"))\n",
    "y_train = pd.read_csv(os.path.join(path, \"train_test_data/y_train.csv\"))\n",
    "y_test = pd.read_csv(os.path.join(path, \"train_test_data/y_test.csv\"))\n",
    "\n",
    "X_train.drop('Unnamed: 0', axis = 1, inplace = True)\n",
    "X_test.drop('Unnamed: 0', axis = 1, inplace = True)\n",
    "y_train.drop('Unnamed: 0', axis = 1, inplace = True)\n",
    "y_test.drop('Unnamed: 0', axis = 1, inplace = True)"
   ]
  },
  {
   "cell_type": "code",
   "execution_count": 3,
   "metadata": {},
   "outputs": [],
   "source": [
    "L = 10\n",
    "def CreateRainfullDataSet(X, y, L):\n",
    "    input_size = X.shape[1]\n",
    "    X_train_TimeSeries = np.empty([1, L, input_size])\n",
    "    y_train_TimeSeries = np.empty([1, L])\n",
    "    for j in range(16, 65):\n",
    "        location_labels = np.where(X.iloc[: ,j] == 1)[0]\n",
    "        training_index = []\n",
    "        for i in location_labels[(L - 1):len(location_labels)]:\n",
    "            training_index += np.arange(i- L + 1, i + 1).tolist()\n",
    "            \n",
    "        X_train_TimeSeries  = np.concatenate((X_train_TimeSeries, np.array(X.iloc[training_index, :].values).reshape(-1, L, input_size)), 0)\n",
    "        y_train_TimeSeries = np.concatenate((y_train_TimeSeries, np.array(y.iloc[training_index].values).reshape(-1, L)), 0)\n",
    "            \n",
    "    return np.transpose(X_train_TimeSeries[1:, :], (0, 2, 1)), y_train_TimeSeries[1:]\n",
    "\n",
    "X_train_TS, y_train_TS = CreateRainfullDataSet(X_train, y_train, L)\n",
    "X_test_TS, y_test_TS = CreateRainfullDataSet(X_test, y_test, L)"
   ]
  },
  {
   "cell_type": "code",
   "execution_count": 4,
   "metadata": {},
   "outputs": [],
   "source": [
    "y_train = np.zeros(len(y_train_TS))\n",
    "y_test = np.zeros(len(y_test_TS))\n",
    "for i in range(len(y_train_TS)):\n",
    "    y_train[i] = int(y_train_TS[i][-1])\n",
    "for i in range(len(y_test_TS)):\n",
    "    y_test[i] = int(y_test_TS[i][-1])"
   ]
  },
  {
   "cell_type": "code",
   "execution_count": 6,
   "metadata": {},
   "outputs": [
    {
     "name": "stderr",
     "output_type": "stream",
     "text": [
      "C:\\Users\\shaow\\Anaconda3\\lib\\site-packages\\ipykernel_launcher.py:1: FutureWarning: Call to deprecated class MrSEQLClassifier. (MrSEQLClassifier will be removed in v0.10.0. It will be replaced with an implementation based on Numba.) -- Deprecated since version 0.8.1.\n",
      "  \"\"\"Entry point for launching an IPython kernel.\n",
      "C:\\Users\\shaow\\Anaconda3\\lib\\site-packages\\ipykernel_launcher.py:1: FutureWarning: Call to deprecated class SEQLCLF. (SEQLCLF will be removed in v0.10.0) -- Deprecated since version 0.8.1.\n",
      "  \"\"\"Entry point for launching an IPython kernel.\n",
      "C:\\Users\\shaow\\Anaconda3\\lib\\site-packages\\sklearn\\utils\\optimize.py:212: ConvergenceWarning: newton-cg failed to converge. Increase the number of iterations.\n",
      "  ConvergenceWarning,\n"
     ]
    }
   ],
   "source": [
    "ms = MrSEQLClassifier()\n",
    "ms.fit(X_train_TS, y_train)\n",
    "y_pred = ms.predict(X_test_TS)"
   ]
  },
  {
   "cell_type": "code",
   "execution_count": 8,
   "metadata": {},
   "outputs": [],
   "source": [
    "y_pred_prob = ms.predict_proba(X_test_TS)[:,1]"
   ]
  },
  {
   "cell_type": "code",
   "execution_count": 9,
   "metadata": {},
   "outputs": [
    {
     "name": "stdout",
     "output_type": "stream",
     "text": [
      "              precision    recall  f1-score   support\n",
      "\n",
      "         0.0       0.90      0.74      0.81     37763\n",
      "         1.0       0.42      0.70      0.53     10138\n",
      "\n",
      "    accuracy                           0.73     47901\n",
      "   macro avg       0.66      0.72      0.67     47901\n",
      "weighted avg       0.80      0.73      0.75     47901\n",
      "\n",
      "0.7980193771887105\n"
     ]
    }
   ],
   "source": [
    "print(classification_report(y_test, y_pred))\n",
    "print(roc_auc_score(y_test, y_pred_prob))"
   ]
  },
  {
   "cell_type": "code",
   "execution_count": 10,
   "metadata": {},
   "outputs": [
    {
     "data": {
      "text/plain": [
       "0.7326778146594016"
      ]
     },
     "execution_count": 10,
     "metadata": {},
     "output_type": "execute_result"
    }
   ],
   "source": [
    "accuracy_score(y_test, y_pred)"
   ]
  },
  {
   "cell_type": "code",
   "execution_count": 11,
   "metadata": {},
   "outputs": [
    {
     "name": "stderr",
     "output_type": "stream",
     "text": [
      "C:\\Users\\shaow\\Anaconda3\\lib\\site-packages\\ipykernel_launcher.py:1: FutureWarning: Call to deprecated class MrSEQLClassifier. (MrSEQLClassifier will be removed in v0.10.0. It will be replaced with an implementation based on Numba.) -- Deprecated since version 0.8.1.\n",
      "  \"\"\"Entry point for launching an IPython kernel.\n",
      "C:\\Users\\shaow\\Anaconda3\\lib\\site-packages\\ipykernel_launcher.py:1: FutureWarning: Call to deprecated class SEQLCLF. (SEQLCLF will be removed in v0.10.0) -- Deprecated since version 0.8.1.\n",
      "  \"\"\"Entry point for launching an IPython kernel.\n",
      "C:\\Users\\shaow\\Anaconda3\\lib\\site-packages\\ipykernel_launcher.py:2: FutureWarning: Call to deprecated class AdaptedSFA. (AdaptedSFA will be removed in v0.10.0) -- Deprecated since version 0.8.1.\n",
      "  \n",
      "C:\\Users\\shaow\\Anaconda3\\lib\\site-packages\\sklearn\\utils\\optimize.py:212: ConvergenceWarning: newton-cg failed to converge. Increase the number of iterations.\n",
      "  ConvergenceWarning,\n"
     ]
    }
   ],
   "source": [
    "ms = MrSEQLClassifier(seql_mode=\"fs\", symrep=['sax', 'sfa'])\n",
    "ms.fit(X_train_TS, y_train)\n",
    "y_pred = ms.predict(X_test_TS)"
   ]
  },
  {
   "cell_type": "code",
   "execution_count": 12,
   "metadata": {},
   "outputs": [
    {
     "name": "stdout",
     "output_type": "stream",
     "text": [
      "              precision    recall  f1-score   support\n",
      "\n",
      "         0.0       0.92      0.77      0.84     37763\n",
      "         1.0       0.47      0.76      0.58     10138\n",
      "\n",
      "    accuracy                           0.77     47901\n",
      "   macro avg       0.70      0.76      0.71     47901\n",
      "weighted avg       0.83      0.77      0.78     47901\n",
      "\n",
      "0.8431330372632164\n"
     ]
    }
   ],
   "source": [
    "y_pred_prob = ms.predict_proba(X_test_TS)[:,1]\n",
    "print(classification_report(y_test, y_pred))\n",
    "print(roc_auc_score(y_test, y_pred_prob))"
   ]
  },
  {
   "cell_type": "code",
   "execution_count": 13,
   "metadata": {},
   "outputs": [
    {
     "data": {
      "text/plain": [
       "0.7673952527087117"
      ]
     },
     "execution_count": 13,
     "metadata": {},
     "output_type": "execute_result"
    }
   ],
   "source": [
    "accuracy_score(y_test, y_pred)"
   ]
  },
  {
   "cell_type": "code",
   "execution_count": null,
   "metadata": {},
   "outputs": [],
   "source": []
  }
 ],
 "metadata": {
  "kernelspec": {
   "display_name": "Python 3",
   "language": "python",
   "name": "python3"
  },
  "language_info": {
   "codemirror_mode": {
    "name": "ipython",
    "version": 3
   },
   "file_extension": ".py",
   "mimetype": "text/x-python",
   "name": "python",
   "nbconvert_exporter": "python",
   "pygments_lexer": "ipython3",
   "version": "3.7.4"
  }
 },
 "nbformat": 4,
 "nbformat_minor": 2
}
