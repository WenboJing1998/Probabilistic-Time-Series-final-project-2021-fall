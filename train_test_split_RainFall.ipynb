{
 "cells": [
  {
   "cell_type": "code",
   "execution_count": null,
   "metadata": {},
   "outputs": [],
   "source": [
    "import pandas as pd\n",
    "import numpy as np\n",
    "\n",
    "\n",
    "data = pd.read_csv('InputedData.csv')\n",
    "y = data['RainTomorrow']\n",
    "date = data['Date']\n",
    "data = data.drop(['Date', 'RainTomorrow'], axis = 1)\n",
    "\n",
    "\n",
    "X_train = pd.DataFrame(columns = data.columns)\n",
    "y_train = pd.Series(dtype='int64')\n",
    "X_test = pd.DataFrame(columns = data.columns)\n",
    "y_test = pd.Series(dtype='int64')\n",
    "\n",
    "\n",
    "for j in range(16, 65):\n",
    "    location_labels = np.where(data.iloc[: ,j] == 1)[0]\n",
    "    last_train = int(0.75 * len(location_labels))\n",
    "    X_train = X_train.append(data.iloc[location_labels[0:last_train], :])\n",
    "    y_train = y_train.append(y[location_labels[0:last_train]])\n",
    "    X_test = X_test.append(data.iloc[location_labels[last_train:], :])\n",
    "    y_test = y_test.append(y[location_labels[last_train:]])\n",
    "    \n",
    "    \n",
    "X_train.to_csv(\"X_train.csv\")\n",
    "X_test.to_csv('X_test.csv')\n",
    "y_train.to_csv('y_train.csv')\n",
    "y_test.to_csv('y_test.csv')"
   ]
  }
 ],
 "metadata": {
  "kernelspec": {
   "display_name": "Python 3",
   "language": "python",
   "name": "python3"
  },
  "language_info": {
   "codemirror_mode": {
    "name": "ipython",
    "version": 3
   },
   "file_extension": ".py",
   "mimetype": "text/x-python",
   "name": "python",
   "nbconvert_exporter": "python",
   "pygments_lexer": "ipython3",
   "version": "3.7.6"
  }
 },
 "nbformat": 4,
 "nbformat_minor": 4
}
