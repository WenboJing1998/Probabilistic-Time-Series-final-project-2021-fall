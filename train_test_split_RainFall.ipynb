{
 "cells": [
  {
   "cell_type": "code",
   "execution_count": 1,
   "metadata": {},
   "outputs": [],
   "source": [
    "import pandas as pd\n",
    "import numpy as np\n",
    "\n",
    "\n",
    "data = pd.read_csv('InputedData.csv')\n",
    "y = data['RainTomorrow']\n",
    "date = data['Date']\n",
    "data = data.drop(['Date', 'RainTomorrow'], axis = 1)\n",
    "\n",
    "\n",
    "X_train = pd.DataFrame(columns = data.columns)\n",
    "y_train = pd.Series(dtype='int64')\n",
    "X_test = pd.DataFrame(columns = data.columns)\n",
    "y_test = pd.Series(dtype='int64')\n",
    "\n",
    "\n",
    "for j in range(16, 65):\n",
    "    location_labels = np.where(data.iloc[: ,j] == 1)[0]\n",
    "    last_train = int(0.75 * len(location_labels))\n",
    "    X_train = X_train.append(data.iloc[location_labels[0:last_train], :])\n",
    "    y_train = y_train.append(y[location_labels[0:last_train]])\n",
    "    X_test = X_test.append(data.iloc[location_labels[last_train:], :])\n",
    "    y_test = y_test.append(y[location_labels[last_train:]])\n",
    "    \n",
    "    \n",
    "X_train.to_csv(\"X_train.csv\")\n",
    "X_test.to_csv('X_test.csv')\n",
    "y_train.to_csv('y_train.csv')\n",
    "y_test.to_csv('y_test.csv')\n",
    "\n",
    "\n"
   ]
  },
  {
   "cell_type": "code",
   "execution_count": 7,
   "metadata": {},
   "outputs": [],
   "source": [
    "# Read csv. Desert the first column which is the index\n",
    "X_train, X_test, y_train, y_test = pd.read_csv('X_train.csv').iloc[: , 1:], \\\n",
    "                                   pd.read_csv('X_test.csv').iloc[: , 1:],\\\n",
    "                                   pd.read_csv('y_train.csv').iloc[: , 1:], \\\n",
    "                                   pd.read_csv('y_test.csv').iloc[: , 1:]  \n",
    "\n",
    "\n",
    "\n",
    "L = 10 # The length of the time series for each sample\n",
    "\n",
    "\n",
    "import torch\n",
    "from torch import nn\n",
    "\n",
    "def CreateRainfullDataSet_RNN(X, y, L):\n",
    "    input_size = X.shape[1]\n",
    "    X_RNN = torch.empty((1, L, input_size), dtype=torch.float64)\n",
    "    y_RNN = torch.empty(1, dtype=torch.long)\n",
    "    for j in range(16, 65):\n",
    "        location_labels = np.where(X.iloc[: ,j] == 1)[0]\n",
    "        training_index = []\n",
    "        for i in location_labels[(L - 1):len(location_labels)]:\n",
    "            training_index += np.arange(i- L + 1, i + 1).tolist()\n",
    "            \n",
    "        \n",
    "        X_RNN  = torch.cat((X_RNN, torch.tensor(X.iloc[training_index, :].values).view(-1, L, input_size)), 0)\n",
    "        y_RNN  = torch.cat((y_RNN, torch.tensor(y.iloc[location_labels[(L - 1):len(location_labels)]].values).view(-1)))\n",
    "            \n",
    "    return X_RNN[1:, :].float(), y_RNN[1:]\n",
    "\n",
    "X_train_RNN, y_train_RNN = CreateRainfullDataSet_RNN(X_train, y_train, L)\n",
    "X_test_RNN, y_test_RNN = CreateRainfullDataSet_RNN(X_test, y_test, L)"
   ]
  },
  {
   "cell_type": "code",
   "execution_count": null,
   "metadata": {},
   "outputs": [],
   "source": []
  }
 ],
 "metadata": {
  "kernelspec": {
   "display_name": "Python 3",
   "language": "python",
   "name": "python3"
  },
  "language_info": {
   "codemirror_mode": {
    "name": "ipython",
    "version": 3
   },
   "file_extension": ".py",
   "mimetype": "text/x-python",
   "name": "python",
   "nbconvert_exporter": "python",
   "pygments_lexer": "ipython3",
   "version": "3.7.6"
  }
 },
 "nbformat": 4,
 "nbformat_minor": 4
}
