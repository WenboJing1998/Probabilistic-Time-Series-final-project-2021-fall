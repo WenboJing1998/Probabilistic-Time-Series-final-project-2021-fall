{
 "cells": [
  {
   "cell_type": "code",
   "execution_count": 1,
   "metadata": {},
   "outputs": [],
   "source": [
    "import pandas as pd\n",
    "import numpy as np\n",
    "import os\n",
    "\n",
    "from sktime.transformations.panel.compose import ColumnConcatenator\n",
    "from sktime.classification.compose import ColumnEnsembleClassifier\n",
    "from sktime.classification.interval_based import TimeSeriesForestClassifier\n",
    "\n",
    "from sklearn.metrics import accuracy_score\n",
    "from sklearn.metrics import (plot_roc_curve, classification_report, roc_auc_score, average_precision_score,\n",
    "confusion_matrix, plot_confusion_matrix, plot_precision_recall_curve)"
   ]
  },
  {
   "cell_type": "code",
   "execution_count": 2,
   "metadata": {},
   "outputs": [],
   "source": [
    "# pip install sktime --user"
   ]
  },
  {
   "cell_type": "code",
   "execution_count": 26,
   "metadata": {},
   "outputs": [],
   "source": [
    "path = '/Users/shaow/Desktop/DS-GA1018/Project/'\n",
    "X_train = pd.read_csv(os.path.join(path, \"train_test_data/X_train.csv\"))\n",
    "X_test = pd.read_csv(os.path.join(path, \"train_test_data/X_test.csv\"))\n",
    "y_train = pd.read_csv(os.path.join(path, \"train_test_data/y_train.csv\"))\n",
    "y_test = pd.read_csv(os.path.join(path, \"train_test_data/y_test.csv\"))\n",
    "\n",
    "X_train.drop('Unnamed: 0', axis = 1, inplace = True)\n",
    "X_test.drop('Unnamed: 0', axis = 1, inplace = True)\n",
    "y_train.drop('Unnamed: 0', axis = 1, inplace = True)\n",
    "y_test.drop('Unnamed: 0', axis = 1, inplace = True)"
   ]
  },
  {
   "cell_type": "code",
   "execution_count": 27,
   "metadata": {},
   "outputs": [],
   "source": [
    "L = 10\n",
    "def CreateRainfullDataSet(X, y, L):\n",
    "    input_size = X.shape[1]\n",
    "    X_train_TimeSeries = np.empty([1, L, input_size])\n",
    "    y_train_TimeSeries = np.empty([1, L])\n",
    "    for j in range(16, 65):\n",
    "        location_labels = np.where(X.iloc[: ,j] == 1)[0]\n",
    "        training_index = []\n",
    "        for i in location_labels[(L - 1):len(location_labels)]:\n",
    "            training_index += np.arange(i- L + 1, i + 1).tolist()\n",
    "            \n",
    "        X_train_TimeSeries  = np.concatenate((X_train_TimeSeries, np.array(X.iloc[training_index, :].values).reshape(-1, L, input_size)), 0)\n",
    "        y_train_TimeSeries = np.concatenate((y_train_TimeSeries, np.array(y.iloc[training_index].values).reshape(-1, L)), 0)\n",
    "            \n",
    "    return np.transpose(X_train_TimeSeries[1:, :], (0, 2, 1)), y_train_TimeSeries[1:]\n",
    "\n",
    "X_train_TS, y_train_TS = CreateRainfullDataSet(X_train, y_train, L)\n",
    "X_test_TS, y_test_TS = CreateRainfullDataSet(X_test, y_test, L)"
   ]
  },
  {
   "cell_type": "code",
   "execution_count": 47,
   "metadata": {},
   "outputs": [
    {
     "data": {
      "text/plain": [
       "(144509, 1)"
      ]
     },
     "execution_count": 47,
     "metadata": {},
     "output_type": "execute_result"
    }
   ],
   "source": [
    "X_train_TS.shape"
   ]
  },
  {
   "cell_type": "code",
   "execution_count": 48,
   "metadata": {},
   "outputs": [
    {
     "data": {
      "text/plain": [
       "144509"
      ]
     },
     "execution_count": 48,
     "metadata": {},
     "output_type": "execute_result"
    }
   ],
   "source": [
    "len(y_train)"
   ]
  },
  {
   "cell_type": "code",
   "execution_count": 28,
   "metadata": {},
   "outputs": [],
   "source": [
    "y_train = np.zeros(len(y_train_TS))\n",
    "y_test = np.zeros(len(y_test_TS))\n",
    "for i in range(len(y_train_TS)):\n",
    "    y_train[i] = int(y_train_TS[i][-1])\n",
    "for i in range(len(y_test_TS)):\n",
    "    y_test[i] = int(y_test_TS[i][-1])"
   ]
  },
  {
   "cell_type": "code",
   "execution_count": 31,
   "metadata": {},
   "outputs": [],
   "source": [
    "clf1 = ColumnConcatenator()\n",
    "clf1.fit(X_train_TS)\n",
    "X_train_TS = clf1.transform(X_train_TS)"
   ]
  },
  {
   "cell_type": "code",
   "execution_count": 33,
   "metadata": {},
   "outputs": [],
   "source": [
    "clf1.fit(X_test_TS)\n",
    "X_test_TS = clf1.transform(X_test_TS)"
   ]
  },
  {
   "cell_type": "code",
   "execution_count": 34,
   "metadata": {},
   "outputs": [
    {
     "data": {
      "text/html": [
       "<div>\n",
       "<style scoped>\n",
       "    .dataframe tbody tr th:only-of-type {\n",
       "        vertical-align: middle;\n",
       "    }\n",
       "\n",
       "    .dataframe tbody tr th {\n",
       "        vertical-align: top;\n",
       "    }\n",
       "\n",
       "    .dataframe thead th {\n",
       "        text-align: right;\n",
       "    }\n",
       "</style>\n",
       "<table border=\"1\" class=\"dataframe\">\n",
       "  <thead>\n",
       "    <tr style=\"text-align: right;\">\n",
       "      <th></th>\n",
       "      <th>0</th>\n",
       "    </tr>\n",
       "  </thead>\n",
       "  <tbody>\n",
       "    <tr>\n",
       "      <th>0</th>\n",
       "      <td>0       10.6\n",
       "1       12.5\n",
       "2       13.1\n",
       "3      ...</td>\n",
       "    </tr>\n",
       "    <tr>\n",
       "      <th>1</th>\n",
       "      <td>0       12.5\n",
       "1       13.1\n",
       "2       13.5\n",
       "3      ...</td>\n",
       "    </tr>\n",
       "    <tr>\n",
       "      <th>2</th>\n",
       "      <td>0       13.1\n",
       "1       13.5\n",
       "2       27.0\n",
       "3      ...</td>\n",
       "    </tr>\n",
       "    <tr>\n",
       "      <th>3</th>\n",
       "      <td>0       13.5\n",
       "1       27.0\n",
       "2       18.2\n",
       "3      ...</td>\n",
       "    </tr>\n",
       "    <tr>\n",
       "      <th>4</th>\n",
       "      <td>0       27.0\n",
       "1       18.2\n",
       "2       13.6\n",
       "3      ...</td>\n",
       "    </tr>\n",
       "    <tr>\n",
       "      <th>...</th>\n",
       "      <td>...</td>\n",
       "    </tr>\n",
       "    <tr>\n",
       "      <th>47896</th>\n",
       "      <td>0       9.6\n",
       "1       4.4\n",
       "2       4.9\n",
       "3       8....</td>\n",
       "    </tr>\n",
       "    <tr>\n",
       "      <th>47897</th>\n",
       "      <td>0       4.4\n",
       "1       4.9\n",
       "2       8.2\n",
       "3       3....</td>\n",
       "    </tr>\n",
       "    <tr>\n",
       "      <th>47898</th>\n",
       "      <td>0       4.9\n",
       "1       8.2\n",
       "2       3.9\n",
       "3       6....</td>\n",
       "    </tr>\n",
       "    <tr>\n",
       "      <th>47899</th>\n",
       "      <td>0       8.2\n",
       "1       3.9\n",
       "2       6.1\n",
       "3       7....</td>\n",
       "    </tr>\n",
       "    <tr>\n",
       "      <th>47900</th>\n",
       "      <td>0       3.9\n",
       "1       6.1\n",
       "2       7.8\n",
       "3       7....</td>\n",
       "    </tr>\n",
       "  </tbody>\n",
       "</table>\n",
       "<p>47901 rows × 1 columns</p>\n",
       "</div>"
      ],
      "text/plain": [
       "                                                       0\n",
       "0      0       10.6\n",
       "1       12.5\n",
       "2       13.1\n",
       "3      ...\n",
       "1      0       12.5\n",
       "1       13.1\n",
       "2       13.5\n",
       "3      ...\n",
       "2      0       13.1\n",
       "1       13.5\n",
       "2       27.0\n",
       "3      ...\n",
       "3      0       13.5\n",
       "1       27.0\n",
       "2       18.2\n",
       "3      ...\n",
       "4      0       27.0\n",
       "1       18.2\n",
       "2       13.6\n",
       "3      ...\n",
       "...                                                  ...\n",
       "47896  0       9.6\n",
       "1       4.4\n",
       "2       4.9\n",
       "3       8....\n",
       "47897  0       4.4\n",
       "1       4.9\n",
       "2       8.2\n",
       "3       3....\n",
       "47898  0       4.9\n",
       "1       8.2\n",
       "2       3.9\n",
       "3       6....\n",
       "47899  0       8.2\n",
       "1       3.9\n",
       "2       6.1\n",
       "3       7....\n",
       "47900  0       3.9\n",
       "1       6.1\n",
       "2       7.8\n",
       "3       7....\n",
       "\n",
       "[47901 rows x 1 columns]"
      ]
     },
     "execution_count": 34,
     "metadata": {},
     "output_type": "execute_result"
    }
   ],
   "source": [
    "X_test_TS"
   ]
  },
  {
   "cell_type": "markdown",
   "metadata": {},
   "source": [
    "**n_estimators=10**"
   ]
  },
  {
   "cell_type": "code",
   "execution_count": 42,
   "metadata": {},
   "outputs": [
    {
     "data": {
      "text/plain": [
       "TimeSeriesForestClassifier(n_estimators=10, random_state=42)"
      ]
     },
     "execution_count": 42,
     "metadata": {},
     "output_type": "execute_result"
    }
   ],
   "source": [
    "clf = TimeSeriesForestClassifier(n_estimators=10, random_state=42)\n",
    "clf.fit(X_train_TS, y_train)"
   ]
  },
  {
   "cell_type": "code",
   "execution_count": 43,
   "metadata": {},
   "outputs": [],
   "source": [
    "y_pred = clf.predict(X_test_TS)\n",
    "#accuracy_score(y_test_TS, y_pred)"
   ]
  },
  {
   "cell_type": "code",
   "execution_count": 44,
   "metadata": {},
   "outputs": [
    {
     "data": {
      "text/plain": [
       "0.7878541157804638"
      ]
     },
     "execution_count": 44,
     "metadata": {},
     "output_type": "execute_result"
    }
   ],
   "source": [
    "accuracy_score(y_test, y_pred)"
   ]
  },
  {
   "cell_type": "code",
   "execution_count": 45,
   "metadata": {},
   "outputs": [
    {
     "name": "stdout",
     "output_type": "stream",
     "text": [
      "              precision    recall  f1-score   support\n",
      "\n",
      "         0.0       0.81      0.96      0.88     37763\n",
      "         1.0       0.50      0.15      0.23     10138\n",
      "\n",
      "    accuracy                           0.79     47901\n",
      "   macro avg       0.65      0.55      0.55     47901\n",
      "weighted avg       0.74      0.79      0.74     47901\n",
      "\n",
      "0.6789902449760291\n"
     ]
    }
   ],
   "source": [
    "y_pred_prob = clf.predict_proba(X_test_TS)[:,1]\n",
    "print(classification_report(y_test, y_pred))\n",
    "print(roc_auc_score(y_test, y_pred_prob))"
   ]
  },
  {
   "cell_type": "code",
   "execution_count": 46,
   "metadata": {},
   "outputs": [
    {
     "data": {
      "text/plain": [
       "1.0"
      ]
     },
     "execution_count": 46,
     "metadata": {},
     "output_type": "execute_result"
    }
   ],
   "source": [
    "y_pred_train = clf.predict(X_train_TS)\n",
    "accuracy_score(y_train, y_pred_train)"
   ]
  },
  {
   "cell_type": "code",
   "execution_count": 37,
   "metadata": {},
   "outputs": [
    {
     "data": {
      "text/plain": [
       "0.7878958685622429"
      ]
     },
     "execution_count": 37,
     "metadata": {},
     "output_type": "execute_result"
    }
   ],
   "source": [
    "clf = TimeSeriesForestClassifier(n_estimators=10, min_interval = 10, random_state=42)\n",
    "clf.fit(X_train_TS, y_train)\n",
    "y_pred = clf.predict(X_test_TS)\n",
    "accuracy_score(y_test, y_pred)"
   ]
  },
  {
   "cell_type": "code",
   "execution_count": 38,
   "metadata": {},
   "outputs": [
    {
     "name": "stdout",
     "output_type": "stream",
     "text": [
      "              precision    recall  f1-score   support\n",
      "\n",
      "         0.0       0.81      0.96      0.88     37763\n",
      "         1.0       0.50      0.15      0.23     10138\n",
      "\n",
      "    accuracy                           0.79     47901\n",
      "   macro avg       0.65      0.55      0.55     47901\n",
      "weighted avg       0.74      0.79      0.74     47901\n",
      "\n",
      "0.6824511203329074\n"
     ]
    }
   ],
   "source": [
    "y_pred_prob = clf.predict_proba(X_test_TS)[:,1]\n",
    "print(classification_report(y_test, y_pred))\n",
    "print(roc_auc_score(y_test, y_pred_prob))"
   ]
  },
  {
   "cell_type": "markdown",
   "metadata": {},
   "source": [
    "**n_estimators=20**"
   ]
  },
  {
   "cell_type": "code",
   "execution_count": 55,
   "metadata": {},
   "outputs": [
    {
     "name": "stdout",
     "output_type": "stream",
     "text": [
      "              precision    recall  f1-score   support\n",
      "\n",
      "         0.0       0.81      0.97      0.88     37763\n",
      "         1.0       0.56      0.15      0.23     10138\n",
      "\n",
      "    accuracy                           0.80     47901\n",
      "   macro avg       0.69      0.56      0.56     47901\n",
      "weighted avg       0.76      0.80      0.74     47901\n",
      "\n",
      "0.7222496693368715\n"
     ]
    }
   ],
   "source": [
    "clf = TimeSeriesForestClassifier(n_estimators=20, random_state=42)\n",
    "clf.fit(X_train_TS, y_train)\n",
    "y_pred = clf.predict(X_test_TS)\n",
    "y_pred_prob = clf.predict_proba(X_test_TS)[:,1]\n",
    "print(classification_report(y_test, y_pred))\n",
    "print(roc_auc_score(y_test, y_pred_prob))S"
   ]
  },
  {
   "cell_type": "code",
   "execution_count": 56,
   "metadata": {},
   "outputs": [
    {
     "data": {
      "text/plain": [
       "0.795432245673368"
      ]
     },
     "execution_count": 56,
     "metadata": {},
     "output_type": "execute_result"
    }
   ],
   "source": [
    "accuracy_score(y_test, y_pred)"
   ]
  },
  {
   "cell_type": "code",
   "execution_count": 57,
   "metadata": {},
   "outputs": [
    {
     "name": "stdout",
     "output_type": "stream",
     "text": [
      "              precision    recall  f1-score   support\n",
      "\n",
      "         0.0       0.81      0.97      0.88     37763\n",
      "         1.0       0.61      0.14      0.23     10138\n",
      "\n",
      "    accuracy                           0.80     47901\n",
      "   macro avg       0.71      0.56      0.56     47901\n",
      "weighted avg       0.77      0.80      0.75     47901\n",
      "\n",
      "0.7342156290486261\n"
     ]
    }
   ],
   "source": [
    "clf = TimeSeriesForestClassifier(n_estimators=30, random_state=42)\n",
    "clf.fit(X_train_TS, y_train)\n",
    "y_pred = clf.predict(X_test_TS)\n",
    "y_pred_prob = clf.predict_proba(X_test_TS)[:,1]\n",
    "print(classification_report(y_test, y_pred))\n",
    "print(roc_auc_score(y_test, y_pred_prob))"
   ]
  },
  {
   "cell_type": "code",
   "execution_count": 58,
   "metadata": {},
   "outputs": [
    {
     "data": {
      "text/plain": [
       "0.7988768501701425"
      ]
     },
     "execution_count": 58,
     "metadata": {},
     "output_type": "execute_result"
    }
   ],
   "source": [
    "accuracy_score(y_test, y_pred)"
   ]
  },
  {
   "cell_type": "markdown",
   "metadata": {},
   "source": [
    "**n_estimators=200**"
   ]
  },
  {
   "cell_type": "code",
   "execution_count": 35,
   "metadata": {},
   "outputs": [
    {
     "name": "stdout",
     "output_type": "stream",
     "text": [
      "              precision    recall  f1-score   support\n",
      "\n",
      "         0.0       0.81      0.98      0.89     37763\n",
      "         1.0       0.67      0.13      0.21     10138\n",
      "\n",
      "    accuracy                           0.80     47901\n",
      "   macro avg       0.74      0.56      0.55     47901\n",
      "weighted avg       0.78      0.80      0.74     47901\n",
      "\n",
      "0.759898088475273\n"
     ]
    }
   ],
   "source": [
    "clf = TimeSeriesForestClassifier(n_estimators=200, n_jobs = -1, random_state=42)\n",
    "clf.fit(X_train_TS, y_train)\n",
    "y_pred = clf.predict(X_test_TS)\n",
    "y_pred_prob = clf.predict_proba(X_test_TS)[:,1]\n",
    "print(classification_report(y_test, y_pred))\n",
    "print(roc_auc_score(y_test, y_pred_prob))"
   ]
  },
  {
   "cell_type": "code",
   "execution_count": 36,
   "metadata": {},
   "outputs": [
    {
     "data": {
      "text/plain": [
       "0.8019456796309055"
      ]
     },
     "execution_count": 36,
     "metadata": {},
     "output_type": "execute_result"
    }
   ],
   "source": [
    "accuracy_score(y_test, y_pred)"
   ]
  },
  {
   "cell_type": "markdown",
   "metadata": {},
   "source": [
    "**n_estimators=400**"
   ]
  },
  {
   "cell_type": "code",
   "execution_count": 39,
   "metadata": {},
   "outputs": [
    {
     "name": "stdout",
     "output_type": "stream",
     "text": [
      "              precision    recall  f1-score   support\n",
      "\n",
      "         0.0       0.81      0.98      0.89     37763\n",
      "         1.0       0.67      0.13      0.22     10138\n",
      "\n",
      "    accuracy                           0.80     47901\n",
      "   macro avg       0.74      0.56      0.56     47901\n",
      "weighted avg       0.78      0.80      0.75     47901\n",
      "\n",
      "0.7678522604721945\n"
     ]
    }
   ],
   "source": [
    "clf = TimeSeriesForestClassifier(n_estimators=400, n_jobs = -1, random_state=42)\n",
    "clf.fit(X_train_TS, y_train)\n",
    "y_pred = clf.predict(X_test_TS)\n",
    "y_pred_prob = clf.predict_proba(X_test_TS)[:,1]\n",
    "print(classification_report(y_test, y_pred))\n",
    "print(roc_auc_score(y_test, y_pred_prob))"
   ]
  },
  {
   "cell_type": "code",
   "execution_count": 40,
   "metadata": {},
   "outputs": [
    {
     "data": {
      "text/plain": [
       "0.8029477463936034"
      ]
     },
     "execution_count": 40,
     "metadata": {},
     "output_type": "execute_result"
    }
   ],
   "source": [
    "accuracy_score(y_test, y_pred)"
   ]
  },
  {
   "cell_type": "code",
   "execution_count": 41,
   "metadata": {},
   "outputs": [
    {
     "data": {
      "text/plain": [
       "1.0"
      ]
     },
     "execution_count": 41,
     "metadata": {},
     "output_type": "execute_result"
    }
   ],
   "source": [
    "y_pred_train = clf.predict(X_train_TS)\n",
    "accuracy_score(y_train, y_pred_train)"
   ]
  },
  {
   "cell_type": "code",
   "execution_count": null,
   "metadata": {},
   "outputs": [],
   "source": []
  }
 ],
 "metadata": {
  "kernelspec": {
   "display_name": "Python 3",
   "language": "python",
   "name": "python3"
  },
  "language_info": {
   "codemirror_mode": {
    "name": "ipython",
    "version": 3
   },
   "file_extension": ".py",
   "mimetype": "text/x-python",
   "name": "python",
   "nbconvert_exporter": "python",
   "pygments_lexer": "ipython3",
   "version": "3.7.4"
  }
 },
 "nbformat": 4,
 "nbformat_minor": 2
}
